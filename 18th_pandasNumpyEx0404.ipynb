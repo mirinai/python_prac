{
  "cells": [
    {
      "cell_type": "code",
      "execution_count": 3,
      "metadata": {
        "colab": {
          "base_uri": "https://localhost:8080/",
          "height": 660
        },
        "id": "0y_oZdcdpfj-",
        "outputId": "be092341-d51f-4317-b82c-1a0ab0c3c3d9"
      },
      "outputs": [
        {
          "name": "stdout",
          "output_type": "stream",
          "text": [
            "df :\n",
            "          country continent  year  lifeExp       pop   gdpPercap\n",
            "0     Afghanistan      Asia  1952   28.801   8425333  779.445314\n",
            "1     Afghanistan      Asia  1957   30.332   9240934  820.853030\n",
            "2     Afghanistan      Asia  1962   31.997  10267083  853.100710\n",
            "3     Afghanistan      Asia  1967   34.020  11537966  836.197138\n",
            "4     Afghanistan      Asia  1972   36.088  13079460  739.981106\n",
            "...           ...       ...   ...      ...       ...         ...\n",
            "1699     Zimbabwe    Africa  1987   62.351   9216418  706.157306\n",
            "1700     Zimbabwe    Africa  1992   60.377  10704340  693.420786\n",
            "1701     Zimbabwe    Africa  1997   46.809  11404948  792.449960\n",
            "1702     Zimbabwe    Africa  2002   39.989  11926563  672.038623\n",
            "1703     Zimbabwe    Africa  2007   43.487  12311143  469.709298\n",
            "\n",
            "[1704 rows x 6 columns]\n",
            "head() 함수를 써서 앞부분 다섯 줄만 출력하기\n",
            "       country continent  year  lifeExp       pop   gdpPercap\n",
            "0  Afghanistan      Asia  1952   28.801   8425333  779.445314\n",
            "1  Afghanistan      Asia  1957   30.332   9240934  820.853030\n",
            "2  Afghanistan      Asia  1962   31.997  10267083  853.100710\n",
            "3  Afghanistan      Asia  1967   34.020  11537966  836.197138\n",
            "4  Afghanistan      Asia  1972   36.088  13079460  739.981106\n",
            "\n",
            "       country continent  year  lifeExp       pop   gdpPercap\n",
            "0  Afghanistan      Asia  1952   28.801   8425333  779.445314\n",
            "1  Afghanistan      Asia  1957   30.332   9240934  820.853030\n",
            "2  Afghanistan      Asia  1962   31.997  10267083  853.100710\n",
            "\n",
            "df의 데이터타입 = <class 'pandas.core.frame.DataFrame'>\n",
            "df의 차원을 구해주는 shape 속성\n",
            "df.shape= (1704, 6)\n",
            "\n",
            "df.shape[0]= 1704\n",
            "df.shape[1]= 6\n"
          ]
        },
        {
          "data": {
            "text/plain": [
              "'\\ndf.shape[0]= 1704\\ndf.shape[1]= 6\\n'"
            ]
          },
          "execution_count": 3,
          "metadata": {},
          "output_type": "execute_result"
        }
      ],
      "source": [
        "import numpy as np\n",
        "import pandas as pd\n",
        "\n",
        "#같은 폴더에 gapminder.tsv가 있다는 가정으로 하기\n",
        "df = pd.read_csv(\"./gapminder.tsv\",sep=\"\\t\")\n",
        "#df = pd.read_csv(\"gapminder.tsv\",sep='\\t')\n",
        "print(\"df :\")\n",
        "print(df)\n",
        "print(\"head() 함수를 써서 앞부분 다섯 줄만 출력하기\")\n",
        "print(df.head())\n",
        "'''\n",
        "       country continent  year  lifeExp       pop   gdpPercap\n",
        "0  Afghanistan      Asia  1952   28.801   8425333  779.445314\n",
        "1  Afghanistan      Asia  1957   30.332   9240934  820.853030\n",
        "2  Afghanistan      Asia  1962   31.997  10267083  853.100710\n",
        "3  Afghanistan      Asia  1967   34.020  11537966  836.197138\n",
        "4  Afghanistan      Asia  1972   36.088  13079460  739.981106\n",
        "'''\n",
        "print()\n",
        "print(df.head(3))\n",
        "'''\n",
        "       country continent  year  lifeExp       pop   gdpPercap\n",
        "0  Afghanistan      Asia  1952   28.801   8425333  779.445314\n",
        "1  Afghanistan      Asia  1957   30.332   9240934  820.853030\n",
        "2  Afghanistan      Asia  1962   31.997  10267083  853.100710\n",
        "'''\n",
        "print()\n",
        "print(\"df의 데이터타입 =\",type(df))\n",
        "#df의 데이터타입 = <class 'pandas.core.frame.DataFrame'>\n",
        "\n",
        "\n",
        "print(\"df의 차원을 구해주는 shape 속성\")\n",
        "print(\"df.shape=\",df.shape)#df.shape= (1704, 6)\n",
        "#axis=0 : 1704, axis=1 : 6\n",
        "print()\n",
        "print(\"df.shape[0]=\",df.shape[0])\n",
        "print(\"df.shape[1]=\",df.shape[1])\n",
        "'''\n",
        "df.shape[0]= 1704\n",
        "df.shape[1]= 6\n",
        "'''\n",
        "\n"
      ]
    },
    {
      "cell_type": "code",
      "execution_count": 4,
      "metadata": {
        "colab": {
          "base_uri": "https://localhost:8080/"
        },
        "id": "XFlhEVrFrQ1W",
        "outputId": "2981a8e7-75d7-4a2b-fb8c-cf9b7e268bf0"
      },
      "outputs": [
        {
          "name": "stdout",
          "output_type": "stream",
          "text": [
            "df.columns= Index(['country', 'continent', 'year', 'lifeExp', 'pop', 'gdpPercap'], dtype='object')\n"
          ]
        }
      ],
      "source": [
        "print(\"df.columns=\",df.columns)\n"
      ]
    },
    {
      "cell_type": "code",
      "execution_count": 5,
      "metadata": {
        "id": "xNHtXX5crztn"
      },
      "outputs": [
        {
          "name": "stdout",
          "output_type": "stream",
          "text": [
            "df.dtypes=\n",
            "country       object\n",
            "continent     object\n",
            "year           int64\n",
            "lifeExp      float64\n",
            "pop            int64\n",
            "gdpPercap    float64\n",
            "dtype: object\n"
          ]
        }
      ],
      "source": [
        "print(\"df.dtypes=\")\n",
        "print(df.dtypes)"
      ]
    },
    {
      "cell_type": "code",
      "execution_count": 6,
      "metadata": {},
      "outputs": [
        {
          "name": "stdout",
          "output_type": "stream",
          "text": [
            "<class 'pandas.core.frame.DataFrame'>\n",
            "RangeIndex: 1704 entries, 0 to 1703\n",
            "Data columns (total 6 columns):\n",
            " #   Column     Non-Null Count  Dtype  \n",
            "---  ------     --------------  -----  \n",
            " 0   country    1704 non-null   object \n",
            " 1   continent  1704 non-null   object \n",
            " 2   year       1704 non-null   int64  \n",
            " 3   lifeExp    1704 non-null   float64\n",
            " 4   pop        1704 non-null   int64  \n",
            " 5   gdpPercap  1704 non-null   float64\n",
            "dtypes: float64(2), int64(2), object(2)\n",
            "memory usage: 80.0+ KB\n",
            "df.info()= None\n"
          ]
        }
      ],
      "source": [
        "print(\"df.info()=\",df.info())"
      ]
    },
    {
      "cell_type": "code",
      "execution_count": 11,
      "metadata": {},
      "outputs": [
        {
          "name": "stdout",
          "output_type": "stream",
          "text": [
            "country_df :\n",
            "0       Afghanistan\n",
            "1       Afghanistan\n",
            "2       Afghanistan\n",
            "3       Afghanistan\n",
            "4       Afghanistan\n",
            "           ...     \n",
            "1699       Zimbabwe\n",
            "1700       Zimbabwe\n",
            "1701       Zimbabwe\n",
            "1702       Zimbabwe\n",
            "1703       Zimbabwe\n",
            "Name: country, Length: 1704, dtype: object\n",
            "\n",
            "type(country_df) : <class 'pandas.core.series.Series'>\n"
          ]
        }
      ],
      "source": [
        "country_df = df['country']\n",
        "print(\"country_df :\")\n",
        "print(country_df)\n",
        "\n",
        "print()\n",
        "print(\"type(country_df) :\",type(country_df))\n"
      ]
    },
    {
      "cell_type": "code",
      "execution_count": 12,
      "metadata": {},
      "outputs": [
        {
          "name": "stdout",
          "output_type": "stream",
          "text": [
            "country_df.head() :\n",
            "0    Afghanistan\n",
            "1    Afghanistan\n",
            "2    Afghanistan\n",
            "3    Afghanistan\n",
            "4    Afghanistan\n",
            "Name: country, dtype: object\n",
            "\n",
            "country_df.tail() :\n",
            "1699    Zimbabwe\n",
            "1700    Zimbabwe\n",
            "1701    Zimbabwe\n",
            "1702    Zimbabwe\n",
            "1703    Zimbabwe\n",
            "Name: country, dtype: object\n"
          ]
        }
      ],
      "source": [
        "print(\"country_df.head() :\")\n",
        "print(country_df.head())\n",
        "print()\n",
        "print(\"country_df.tail() :\")\n",
        "print(country_df.tail())"
      ]
    },
    {
      "cell_type": "code",
      "execution_count": 13,
      "metadata": {},
      "outputs": [
        {
          "name": "stdout",
          "output_type": "stream",
          "text": [
            "subset :\n",
            "          country continent  year\n",
            "0     Afghanistan      Asia  1952\n",
            "1     Afghanistan      Asia  1957\n",
            "2     Afghanistan      Asia  1962\n",
            "3     Afghanistan      Asia  1967\n",
            "4     Afghanistan      Asia  1972\n",
            "...           ...       ...   ...\n",
            "1699     Zimbabwe    Africa  1987\n",
            "1700     Zimbabwe    Africa  1992\n",
            "1701     Zimbabwe    Africa  1997\n",
            "1702     Zimbabwe    Africa  2002\n",
            "1703     Zimbabwe    Africa  2007\n",
            "\n",
            "[1704 rows x 3 columns]\n"
          ]
        }
      ],
      "source": [
        "subset = df[[\"country\",'continent','year']]\n",
        "print(\"subset :\")\n",
        "print(subset)"
      ]
    },
    {
      "cell_type": "code",
      "execution_count": 14,
      "metadata": {},
      "outputs": [
        {
          "name": "stdout",
          "output_type": "stream",
          "text": [
            "type(subset) : <class 'pandas.core.frame.DataFrame'>\n",
            "\n",
            "subset.shape= (1704, 3)\n"
          ]
        }
      ],
      "source": [
        "print(\"type(subset) :\",end=\" \")\n",
        "print(type(subset))#type(subset) : <class 'pandas.core.frame.DataFrame'>\n",
        "\n",
        "print()\n",
        "print(\"subset.shape=\",subset.shape)#subset.shape= (1704, 3)"
      ]
    },
    {
      "cell_type": "code",
      "execution_count": 15,
      "metadata": {},
      "outputs": [
        {
          "name": "stdout",
          "output_type": "stream",
          "text": [
            "       country continent  year\n",
            "0  Afghanistan      Asia  1952\n",
            "1  Afghanistan      Asia  1957\n",
            "2  Afghanistan      Asia  1962\n",
            "3  Afghanistan      Asia  1967\n",
            "4  Afghanistan      Asia  1972\n"
          ]
        }
      ],
      "source": [
        "print(subset.head())"
      ]
    },
    {
      "cell_type": "code",
      "execution_count": 17,
      "metadata": {},
      "outputs": [
        {
          "name": "stdout",
          "output_type": "stream",
          "text": [
            "          country continent  year  lifeExp       pop   gdpPercap\n",
            "0     Afghanistan      Asia  1952   28.801   8425333  779.445314\n",
            "1     Afghanistan      Asia  1957   30.332   9240934  820.853030\n",
            "2     Afghanistan      Asia  1962   31.997  10267083  853.100710\n",
            "3     Afghanistan      Asia  1967   34.020  11537966  836.197138\n",
            "4     Afghanistan      Asia  1972   36.088  13079460  739.981106\n",
            "...           ...       ...   ...      ...       ...         ...\n",
            "1699     Zimbabwe    Africa  1987   62.351   9216418  706.157306\n",
            "1700     Zimbabwe    Africa  1992   60.377  10704340  693.420786\n",
            "1701     Zimbabwe    Africa  1997   46.809  11404948  792.449960\n",
            "1702     Zimbabwe    Africa  2002   39.989  11926563  672.038623\n",
            "1703     Zimbabwe    Africa  2007   43.487  12311143  469.709298\n",
            "\n",
            "[1704 rows x 6 columns]\n",
            "------------------------------------------------------------------------------\n",
            "country      Afghanistan\n",
            "continent           Asia\n",
            "year                1952\n",
            "lifeExp           28.801\n",
            "pop              8425333\n",
            "gdpPercap     779.445314\n",
            "Name: 0, dtype: object\n"
          ]
        }
      ],
      "source": [
        "print(df)\n",
        "print(\"------------------------------------------------------------------------------\")\n",
        "print(df.loc[0])"
      ]
    },
    {
      "cell_type": "code",
      "execution_count": 18,
      "metadata": {},
      "outputs": [
        {
          "name": "stdout",
          "output_type": "stream",
          "text": [
            "country      Czech Republic\n",
            "continent            Europe\n",
            "year                   1972\n",
            "lifeExp               70.29\n",
            "pop                 9862158\n",
            "gdpPercap        13108.4536\n",
            "Name: 400, dtype: object\n",
            "------------------------------------------------------------------------------\n",
            "country      Czech Republic\n",
            "continent            Europe\n",
            "year                   1972\n",
            "lifeExp               70.29\n",
            "pop                 9862158\n",
            "gdpPercap        13108.4536\n",
            "Name: 400, dtype: object\n"
          ]
        }
      ],
      "source": [
        "print(df.loc[400])\n",
        "print(\"------------------------------------------------------------------------------\")\n",
        "print(df.iloc[400])"
      ]
    },
    {
      "cell_type": "code",
      "execution_count": 19,
      "metadata": {},
      "outputs": [
        {
          "name": "stdout",
          "output_type": "stream",
          "text": [
            "df.shape : (1704, 6)\n",
            "df.shape[0] : 1704\n",
            "df.shape[1] : 6\n",
            "==========================\n",
            "country        Zimbabwe\n",
            "continent        Africa\n",
            "year               2007\n",
            "lifeExp          43.487\n",
            "pop            12311143\n",
            "gdpPercap    469.709298\n",
            "Name: 1703, dtype: object\n",
            "------------------------------------------------------------------------------\n",
            "country        Zimbabwe\n",
            "continent        Africa\n",
            "year               2007\n",
            "lifeExp          43.487\n",
            "pop            12311143\n",
            "gdpPercap    469.709298\n",
            "Name: 1703, dtype: object\n"
          ]
        }
      ],
      "source": [
        "print(\"df.shape :\",df.shape)\n",
        "print(\"df.shape[0] :\",df.shape[0])\n",
        "print(\"df.shape[1] :\",df.shape[1])\n",
        "numOfRows=df.shape[0]\n",
        "lastRowIndex=numOfRows-1\n",
        "numOfColumns=df.shape[1]-1\n",
        "lastRowColumns=numOfColumns-1\n",
        "print(\"==========================\")\n",
        "print(df.loc[lastRowIndex])\n",
        "print(\"------------------------------------------------------------------------------\")\n",
        "print(df.iloc[lastRowIndex])"
      ]
    },
    {
      "cell_type": "code",
      "execution_count": 20,
      "metadata": {},
      "outputs": [
        {
          "name": "stdout",
          "output_type": "stream",
          "text": [
            "       country continent  year  lifeExp       pop   gdpPercap\n",
            "1703  Zimbabwe    Africa  2007   43.487  12311143  469.709298\n",
            "--------------------------------------------------------------------\n",
            "       country continent  year  lifeExp       pop   gdpPercap\n",
            "1703  Zimbabwe    Africa  2007   43.487  12311143  469.709298\n"
          ]
        }
      ],
      "source": [
        "print(df.tail(n=1))\n",
        "print(\"--------------------------------------------------------------------\")\n",
        "print(df.tail(1))"
      ]
    },
    {
      "cell_type": "code",
      "execution_count": 21,
      "metadata": {},
      "outputs": [
        {
          "name": "stdout",
          "output_type": "stream",
          "text": [
            "       country continent  year  lifeExp       pop   gdpPercap\n",
            "1702  Zimbabwe    Africa  2002   39.989  11926563  672.038623\n",
            "1703  Zimbabwe    Africa  2007   43.487  12311143  469.709298\n"
          ]
        }
      ],
      "source": [
        "print(df.tail(n=2))"
      ]
    },
    {
      "cell_type": "code",
      "execution_count": 22,
      "metadata": {},
      "outputs": [
        {
          "name": "stdout",
          "output_type": "stream",
          "text": [
            "         country continent  year  lifeExp       pop    gdpPercap\n",
            "0    Afghanistan      Asia  1952   28.801   8425333   779.445314\n",
            "99    Bangladesh      Asia  1967   43.453  62821884   721.186086\n",
            "999     Mongolia      Asia  1967   51.253   1149500  1226.041130\n"
          ]
        }
      ],
      "source": [
        "print(df.iloc[[0,99,999]])"
      ]
    },
    {
      "cell_type": "code",
      "execution_count": 23,
      "metadata": {},
      "outputs": [
        {
          "name": "stdout",
          "output_type": "stream",
          "text": [
            "       country continent  year  lifeExp       pop   gdpPercap\n",
            "99  Bangladesh      Asia  1967   43.453  62821884  721.186086\n"
          ]
        }
      ],
      "source": [
        "print(df.iloc[[99]])"
      ]
    },
    {
      "cell_type": "code",
      "execution_count": 24,
      "metadata": {},
      "outputs": [
        {
          "name": "stdout",
          "output_type": "stream",
          "text": [
            "country        Zimbabwe\n",
            "continent        Africa\n",
            "year               2007\n",
            "lifeExp          43.487\n",
            "pop            12311143\n",
            "gdpPercap    469.709298\n",
            "Name: 1703, dtype: object\n",
            "-------------------------------------\n",
            "country        Zimbabwe\n",
            "continent        Africa\n",
            "year               2007\n",
            "lifeExp          43.487\n",
            "pop            12311143\n",
            "gdpPercap    469.709298\n",
            "Name: 1703, dtype: object\n"
          ]
        }
      ],
      "source": [
        "print(df.iloc[1703])\n",
        "print(\"-------------------------------------\")\n",
        "print(df.iloc[-1])"
      ]
    },
    {
      "cell_type": "code",
      "execution_count": 25,
      "metadata": {},
      "outputs": [
        {
          "name": "stdout",
          "output_type": "stream",
          "text": [
            "s2.shape (1704, 2)\n",
            "s2 :\n",
            "      year       pop\n",
            "0     1952   8425333\n",
            "1     1957   9240934\n",
            "2     1962  10267083\n",
            "3     1967  11537966\n",
            "4     1972  13079460\n",
            "...    ...       ...\n",
            "1699  1987   9216418\n",
            "1700  1992  10704340\n",
            "1701  1997  11404948\n",
            "1702  2002  11926563\n",
            "1703  2007  12311143\n",
            "\n",
            "[1704 rows x 2 columns]\n",
            "----------------------\n",
            "   year       pop\n",
            "0  1952   8425333\n",
            "1  1957   9240934\n",
            "2  1962  10267083\n",
            "3  1967  11537966\n",
            "4  1972  13079460\n"
          ]
        }
      ],
      "source": [
        "s2 = df.loc[ : , ['year','pop'] ]#: 슬라이싱(잘라냄)\n",
        "#\" : \" : 모든 행들\n",
        "#['year','pop'] : 이 행들만 가져오겠다.\n",
        "print(\"s2.shape\",s2.shape)\n",
        "print(\"s2 :\")\n",
        "print(s2)\n",
        "print(\"----------------------\")\n",
        "print(s2.head())"
      ]
    },
    {
      "cell_type": "code",
      "execution_count": 26,
      "metadata": {},
      "outputs": [
        {
          "name": "stdout",
          "output_type": "stream",
          "text": [
            "s3 :\n",
            "      year       pop   gdpPercap\n",
            "0     1952   8425333  779.445314\n",
            "1     1957   9240934  820.853030\n",
            "2     1962  10267083  853.100710\n",
            "3     1967  11537966  836.197138\n",
            "4     1972  13079460  739.981106\n",
            "...    ...       ...         ...\n",
            "1699  1987   9216418  706.157306\n",
            "1700  1992  10704340  693.420786\n",
            "1701  1997  11404948  792.449960\n",
            "1702  2002  11926563  672.038623\n",
            "1703  2007  12311143  469.709298\n",
            "\n",
            "[1704 rows x 3 columns]\n"
          ]
        }
      ],
      "source": [
        "s3 = df.iloc[ : , [2,4,-1]]\n",
        "print(\"s3 :\")\n",
        "print(s3)"
      ]
    },
    {
      "cell_type": "code",
      "execution_count": 27,
      "metadata": {},
      "outputs": [
        {
          "name": "stdout",
          "output_type": "stream",
          "text": [
            "         country  lifeExp    gdpPercap\n",
            "0    Afghanistan   28.801   779.445314\n",
            "99    Bangladesh   43.453   721.186086\n",
            "999     Mongolia   51.253  1226.041130\n"
          ]
        }
      ],
      "source": [
        "print(df.iloc[[0,99,999],[0,3,5]])"
      ]
    },
    {
      "cell_type": "code",
      "execution_count": 28,
      "metadata": {},
      "outputs": [
        {
          "name": "stdout",
          "output_type": "stream",
          "text": [
            "        country  lifeExp    gdpPercap\n",
            "10  Afghanistan   42.129   726.734055\n",
            "11  Afghanistan   43.828   974.580338\n",
            "12      Albania   55.230  1601.056136\n",
            "13      Albania   59.280  1942.284244\n"
          ]
        }
      ],
      "source": [
        "print(df.loc[10:13,['country','lifeExp','gdpPercap']])"
      ]
    }
  ],
  "metadata": {
    "accelerator": "GPU",
    "colab": {
      "gpuType": "T4",
      "provenance": []
    },
    "kernelspec": {
      "display_name": "Python 3",
      "name": "python3"
    },
    "language_info": {
      "codemirror_mode": {
        "name": "ipython",
        "version": 3
      },
      "file_extension": ".py",
      "mimetype": "text/x-python",
      "name": "python",
      "nbconvert_exporter": "python",
      "pygments_lexer": "ipython3",
      "version": "3.12.2"
    }
  },
  "nbformat": 4,
  "nbformat_minor": 0
}
